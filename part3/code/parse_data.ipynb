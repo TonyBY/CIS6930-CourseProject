{
 "cells": [
  {
   "cell_type": "code",
   "execution_count": 68,
   "metadata": {},
   "outputs": [],
   "source": [
    "import pandas as pd\n",
    "import os\n",
    "import cv2\n",
    "import numpy as np\n",
    "from PIL import Image\n",
    "import xml.etree.ElementTree as ET\n",
    "from io import BytesIO\n",
    "import dlib\n",
    "from xmltodict import parse"
   ]
  },
  {
   "cell_type": "code",
   "execution_count": 69,
   "metadata": {},
   "outputs": [],
   "source": [
    "path_data3 = \"../data/data3/\"\n",
    "path_im3=\"../data/data3/images/\" "
   ]
  },
  {
   "cell_type": "code",
   "execution_count": 70,
   "metadata": {},
   "outputs": [],
   "source": [
    "df = pd.read_csv(path_data3+'train.csv')\n",
    "data3_df = df[(df['classname'] == 'face_with_mask') | (df['classname'] == 'face_no_mask')]\n",
    "image3_df = data3_df.apply(lambda row: cv2.cvtColor(cv2.imread(os.path.join(path_im3,row['name'])),cv2.COLOR_BGR2RGB), axis=1)\n",
    "data3_df = data3_df.merge(image3_df.rename('image'), left_index=True, right_index=True)\n",
    "data3_df.to_csv('data3.csv')"
   ]
  },
  {
   "cell_type": "code",
   "execution_count": 71,
   "metadata": {},
   "outputs": [],
   "source": [
    "path_im2=\"../data/data2/images/\" \n",
    "path_xml2=\"../data/data2/annotations/\" "
   ]
  },
  {
   "cell_type": "code",
   "execution_count": 72,
   "metadata": {},
   "outputs": [],
   "source": [
    "def getObjectProperties(filename, objectList):\n",
    "    objectDict = {}\n",
    "    for event_type, element in  ET.iterparse(filename, events=('start', 'end')):\n",
    "        if event_type == 'start' and element.tag == 'filename':\n",
    "            objectDict['name'] = element.text\n",
    "        if event_type == 'end' and element.tag == 'name':\n",
    "            objectDict['classname'] = element.text\n",
    "        if event_type == 'end' and element.tag == 'xmin':\n",
    "            objectDict['x1'] = element.text\n",
    "        if event_type == 'end' and element.tag == 'ymin':\n",
    "            objectDict['y1'] = element.text\n",
    "        if event_type == 'end' and element.tag == 'xmax':\n",
    "            objectDict['x2'] = element.text\n",
    "        if event_type == 'end' and element.tag == 'ymax':\n",
    "            objectDict['y2'] = element.text\n",
    "        if event_type == 'end' and element.tag == 'object':\n",
    "            objectList.append(dict(objectDict))\n",
    "    return objectList"
   ]
  },
  {
   "cell_type": "code",
   "execution_count": 73,
   "metadata": {
    "scrolled": true
   },
   "outputs": [],
   "source": [
    "objectList = []\n",
    "for filename in os.listdir(path_xml2):\n",
    "    with open(path_xml2+filename) as fd:\n",
    "        getObjectProperties(fd,objectList)"
   ]
  },
  {
   "cell_type": "code",
   "execution_count": 74,
   "metadata": {},
   "outputs": [],
   "source": [
    "data2_df = pd.DataFrame.from_records(objectList)\n",
    "image2_df = data2_df.apply(lambda row: cv2.cvtColor(cv2.imread(os.path.join(path_im2,row['name'])),cv2.COLOR_BGR2RGB), axis=1)\n",
    "data2_df = data2_df.merge(image2_df.rename('image'), left_index=True, right_index=True)\n",
    "\n",
    "data2_df['classname'] = data2_df['classname'].replace(['with_mask','without_mask'],['face_with_mask','face_no_mask'])\n",
    "data2_df.to_csv('data2.csv')"
   ]
  },
  {
   "cell_type": "code",
   "execution_count": 75,
   "metadata": {},
   "outputs": [],
   "source": [
    "path_data1 = \"../data/data1/\"\n",
    "path_im1_with=\"../data/data1/with_mask/\"\n",
    "path_im1_without=\"../data/data1/without_mask/\" "
   ]
  },
  {
   "cell_type": "code",
   "execution_count": 76,
   "metadata": {},
   "outputs": [],
   "source": [
    "def getBoundaryBoxPoints(filename, objectList, net, label=None):\n",
    "    img = cv2.imread(filename)\n",
    "    h, w = img.shape[:2]\n",
    "    blob = cv2.dnn.blobFromImage(img, 1.0,(300, 300), (104.0, 117.0, 123.0))\n",
    "    net.setInput(blob)\n",
    "    faces = net.forward()\n",
    "    #to draw faces on image\n",
    "    rectangle_list = []\n",
    "    for i in range(faces.shape[2]):\n",
    "            objectDict = {}\n",
    "            confidence = faces[0, 0, i, 2]\n",
    "            if confidence > 0.76:\n",
    "                box = faces[0, 0, i, 3:7] * np.array([w, h, w, h])\n",
    "                (x, y, x1, y1) = box.astype(\"int\")\n",
    "                (startX, startY) = (max(0, x), max(0, y))\n",
    "                (endX, endY) = (min(w - 1, x1), min(h - 1, y1))\n",
    "                \n",
    "                objectDict['name'] = filename.rsplit('/', 1)[-1]\n",
    "                objectDict['classname'] = label\n",
    "                objectDict['x1'] = startX\n",
    "                objectDict['y1'] = startY\n",
    "                objectDict['x2'] = endX\n",
    "                objectDict['y2'] = endY\n",
    "                objectDict['image'] = cv2.cvtColor(img,cv2.COLOR_BGR2RGB)\n",
    "                objectList.append(dict(objectDict))\n",
    "    "
   ]
  },
  {
   "cell_type": "code",
   "execution_count": 77,
   "metadata": {},
   "outputs": [],
   "source": [
    "#TODO: change code later \n",
    "modelFile = \"models/res10_300x300_ssd_iter_140000.caffemodel\"\n",
    "configFile = \"models/deploy.prototxt\"\n",
    "net = cv2.dnn.readNetFromCaffe(path_data1+configFile, path_data1+modelFile)\n",
    "objectList = []\n",
    "\n",
    "for filename in os.listdir(path_im1_with):\n",
    "    getBoundaryBoxPoints(path_im1_with+filename, objectList, net, 'face_with_mask')\n",
    "    \n",
    "for filename in os.listdir(path_im1_without):\n",
    "    getBoundaryBoxPoints(path_im1_without+filename, objectList, net, 'face_no_mask')"
   ]
  },
  {
   "cell_type": "code",
   "execution_count": 78,
   "metadata": {},
   "outputs": [],
   "source": [
    "data1_df = pd.DataFrame.from_records(objectList)\n",
    "data1_df.to_csv('data1.csv')"
   ]
  },
  {
   "cell_type": "code",
   "execution_count": 79,
   "metadata": {},
   "outputs": [],
   "source": [
    "#combine all csv\n",
    "data1 = pd.read_csv(\"data1.csv\",header=0)\n",
    "data2 = pd.read_csv(\"data2.csv\",header=0)\n",
    "data3 = pd.read_csv(\"data3.csv\",header=0)\n",
    "merged_data = pd.concat([data1,data2,data3],ignore_index=True,sort=False)\n",
    "merged_data.to_csv('all_data.csv')"
   ]
  },
  {
   "cell_type": "code",
   "execution_count": 80,
   "metadata": {},
   "outputs": [
    {
     "data": {
      "text/plain": [
       "False"
      ]
     },
     "execution_count": 80,
     "metadata": {},
     "output_type": "execute_result"
    }
   ],
   "source": [
    "merged_data.isnull().values.any()"
   ]
  },
  {
   "cell_type": "code",
   "execution_count": null,
   "metadata": {},
   "outputs": [],
   "source": []
  }
 ],
 "metadata": {
  "kernelspec": {
   "display_name": "Python 3",
   "language": "python",
   "name": "python3"
  },
  "language_info": {
   "codemirror_mode": {
    "name": "ipython",
    "version": 3
   },
   "file_extension": ".py",
   "mimetype": "text/x-python",
   "name": "python",
   "nbconvert_exporter": "python",
   "pygments_lexer": "ipython3",
   "version": "3.8.5"
  }
 },
 "nbformat": 4,
 "nbformat_minor": 4
}
