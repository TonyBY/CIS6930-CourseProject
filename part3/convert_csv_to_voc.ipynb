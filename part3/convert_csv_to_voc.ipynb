{
 "cells": [
  {
   "cell_type": "code",
   "execution_count": 21,
   "metadata": {},
   "outputs": [],
   "source": [
    "import pandas as pd\n",
    "import os\n",
    "import cv2\n",
    "import numpy as np\n",
    "import xml.etree.ElementTree as gfg \n",
    "\n"
   ]
  },
  {
   "cell_type": "code",
   "execution_count": null,
   "metadata": {},
   "outputs": [],
   "source": [
    "def creat_xml(info):\n",
    "    annotation = gfg.Element(\"annotation\") \n",
    "    \n",
    "    folder = gfg.SubElement(annotation, \"folder\") \n",
    "    folder.text = \"images\"\n",
    "    filename = gfg.SubElement(annotation, \"filename\") \n",
    "    filename.text = info[\"name\"]\n",
    "    size = gfg.SubElement(annotation, \"size\") \n",
    "    \n",
    "    width = gfg.SubElement(size,\"width\")\n",
    "    width.text = len(np.array(info['image']))\n",
    "    \n",
    "    "
   ]
  },
  {
   "cell_type": "code",
   "execution_count": null,
   "metadata": {},
   "outputs": [],
   "source": []
  }
 ],
 "metadata": {
  "kernelspec": {
   "display_name": "Python 3",
   "language": "python",
   "name": "python3"
  },
  "language_info": {
   "codemirror_mode": {
    "name": "ipython",
    "version": 3
   },
   "file_extension": ".py",
   "mimetype": "text/x-python",
   "name": "python",
   "nbconvert_exporter": "python",
   "pygments_lexer": "ipython3",
   "version": "3.8.5"
  }
 },
 "nbformat": 4,
 "nbformat_minor": 4
}
